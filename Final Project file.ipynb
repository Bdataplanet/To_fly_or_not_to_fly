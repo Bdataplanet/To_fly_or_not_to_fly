{
 "cells": [
  {
   "cell_type": "code",
   "execution_count": 3,
   "id": "263df4f6",
   "metadata": {},
   "outputs": [],
   "source": [
    "# Primary dataset; format: Kaggle USERNAME/DATASET\n",
    "datasource_primary = 'ioanagheorghiu/historical-flight-and-weather-data'\n",
    "\n",
    "# Seconday dataset; format: URL\n",
    "datasource_secondary = 'https://ourairports.com/countries/US/airports.csv'"
   ]
  },
  {
   "cell_type": "code",
   "execution_count": 4,
   "id": "f918065e",
   "metadata": {},
   "outputs": [],
   "source": [
    "import os"
   ]
  },
  {
   "cell_type": "code",
   "execution_count": 5,
   "id": "627979a5",
   "metadata": {},
   "outputs": [],
   "source": [
    "# Ensure the necessary folder structure exists\n",
    "data_dir = os.path.join('..','resources','data')\n",
    "os.makedirs(data_dir,exist_ok=True)\n",
    "\n",
    "# api_dir = os.path.join('..','API_keys')\n",
    "# os.makedirs(api_dir,exist_ok=True)"
   ]
  },
  {
   "cell_type": "code",
   "execution_count": null,
   "id": "a88c5ee2",
   "metadata": {},
   "outputs": [],
   "source": []
  }
 ],
 "metadata": {
  "kernelspec": {
   "display_name": "Python 3 (ipykernel)",
   "language": "python",
   "name": "python3"
  },
  "language_info": {
   "codemirror_mode": {
    "name": "ipython",
    "version": 3
   },
   "file_extension": ".py",
   "mimetype": "text/x-python",
   "name": "python",
   "nbconvert_exporter": "python",
   "pygments_lexer": "ipython3",
   "version": "3.9.12"
  }
 },
 "nbformat": 4,
 "nbformat_minor": 5
}
