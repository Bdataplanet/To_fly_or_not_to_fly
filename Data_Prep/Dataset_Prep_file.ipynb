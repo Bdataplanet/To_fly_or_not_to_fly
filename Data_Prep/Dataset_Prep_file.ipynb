{
 "cells": [
  {
   "cell_type": "code",
   "execution_count": 1,
   "id": "263df4f6",
   "metadata": {},
   "outputs": [],
   "source": [
    "# Primary dataset; format: Kaggle USERNAME/DATASET\n",
    "datasource_primary = 'ioanagheorghiu/historical-flight-and-weather-data'\n",
    "\n",
    "# Seconday dataset; format: URL\n",
    "datasource_secondary = 'https://ourairports.com/countries/US/airports.csv'"
   ]
  },
  {
   "cell_type": "code",
   "execution_count": 2,
   "id": "f918065e",
   "metadata": {},
   "outputs": [],
   "source": [
    "import os"
   ]
  },
  {
   "cell_type": "code",
   "execution_count": 3,
   "id": "627979a5",
   "metadata": {},
   "outputs": [],
   "source": [
    "# Ensure the necessary folder structure exists\n",
    "data_dir = os.path.join('..','resources','data')\n",
    "os.makedirs(data_dir,exist_ok=True)\n",
    "\n",
    "# api_dir = os.path.join('..','API_keys')\n",
    "# os.makedirs(api_dir,exist_ok=True)"
   ]
  },
  {
   "cell_type": "code",
   "execution_count": 4,
   "id": "a88c5ee2",
   "metadata": {},
   "outputs": [
    {
     "name": "stdout",
     "output_type": "stream",
     "text": [
      "Warning: Your Kaggle API key is readable by other users on this system! To fix this, you can run 'chmod 600 /Users/neesha/.kaggle/kaggle.json'\n"
     ]
    }
   ],
   "source": [
    "import kaggle\n",
    "from kaggle.api.kaggle_api_extended import KaggleApi"
   ]
  },
  {
   "cell_type": "code",
   "execution_count": 5,
   "id": "9dd5cd2a",
   "metadata": {},
   "outputs": [
    {
     "name": "stdout",
     "output_type": "stream",
     "text": [
      "Warning: Your Kaggle API key is readable by other users on this system! To fix this, you can run 'chmod 600 /Users/neesha/.kaggle/kaggle.json'\n"
     ]
    }
   ],
   "source": [
    "kag = KaggleApi()\n",
    "kag.authenticate()"
   ]
  },
  {
   "cell_type": "code",
   "execution_count": 6,
   "id": "118d6533",
   "metadata": {},
   "outputs": [],
   "source": [
    "# Download primary dataset from Kaggle\n",
    "kag.dataset_download_files(\n",
    "    dataset=datasource_primary,\n",
    "    unzip=True,\n",
    "    path=data_dir,\n",
    ")"
   ]
  },
  {
   "cell_type": "code",
   "execution_count": 7,
   "id": "85e4e2a2",
   "metadata": {},
   "outputs": [],
   "source": [
    "from urllib.request import urlretrieve"
   ]
  },
  {
   "cell_type": "code",
   "execution_count": 8,
   "id": "7603fc17",
   "metadata": {},
   "outputs": [
    {
     "data": {
      "text/plain": [
       "('../resources/data/airports.csv', <http.client.HTTPMessage at 0x7fbf4cd96070>)"
      ]
     },
     "execution_count": 8,
     "metadata": {},
     "output_type": "execute_result"
    }
   ],
   "source": [
    "# Download the secondary dataset\n",
    "urlretrieve(\n",
    "    datasource_secondary,\n",
    "    filename=os.path.join(\n",
    "        data_dir,\n",
    "        os.path.basename(datasource_secondary)\n",
    "    )\n",
    ")"
   ]
  },
  {
   "cell_type": "code",
   "execution_count": null,
   "id": "013451bf",
   "metadata": {},
   "outputs": [],
   "source": []
  }
 ],
 "metadata": {
  "kernelspec": {
   "display_name": "Python 3 (ipykernel)",
   "language": "python",
   "name": "python3"
  },
  "language_info": {
   "codemirror_mode": {
    "name": "ipython",
    "version": 3
   },
   "file_extension": ".py",
   "mimetype": "text/x-python",
   "name": "python",
   "nbconvert_exporter": "python",
   "pygments_lexer": "ipython3",
   "version": "3.9.12"
  }
 },
 "nbformat": 4,
 "nbformat_minor": 5
}
