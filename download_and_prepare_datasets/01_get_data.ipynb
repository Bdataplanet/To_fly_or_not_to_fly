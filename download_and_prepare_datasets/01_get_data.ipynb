{
 "cells": [
  {
   "cell_type": "markdown",
   "id": "233d3d37",
   "metadata": {},
   "source": [
    "# Download Primary and Secondary Datasets"
   ]
  },
  {
   "cell_type": "markdown",
   "id": "3b165354",
   "metadata": {},
   "source": [
    "The primary dataset comprises eight months (May–December, 2019) of flight and weather data from US airports from the [Historical Flight Delay and Weather Data USA](https://www.kaggle.com/datasets/ioanagheorghiu/historical-flight-and-weather-data) dataset on [Kaggle](https://www.kaggle.com/).\n",
    "\n",
    "The data was originally sourced from the [United States Bureau of Transportation Statistics](https://www.bts.gov/browse-statistical-products-and-data/bts-publications/airline-service-quality-performance-234-time) and the [National Oceanic and Atmospheric Administration](https://www.ncdc.noaa.gov/cdo-web/datatools/lcd).\n",
    "\n",
    "<hr>\n",
    "\n",
    "The secondary dataset is a list of [Airports in the United States of America](https://data.humdata.org/dataset/ourairports-usa) that (for our purposes) attaches three-dimensional coordinates (latitude, longitide, and altitude) to US airport codes."
   ]
  },
  {
   "cell_type": "code",
   "execution_count": 1,
   "id": "5e5d887c",
   "metadata": {},
   "outputs": [],
   "source": [
    "# Primary dataset; format: Kaggle USERNAME/DATASET\n",
    "datasource_primary = 'ioanagheorghiu/historical-flight-and-weather-data'\n",
    "\n",
    "# Seconday dataset; format: URL\n",
    "datasource_secondary = 'https://ourairports.com/countries/US/airports.csv'"
   ]
  },
  {
   "cell_type": "code",
   "execution_count": 2,
   "id": "8c2020bd",
   "metadata": {},
   "outputs": [],
   "source": [
    "import os"
   ]
  },
  {
   "cell_type": "code",
   "execution_count": 3,
   "id": "99c74587",
   "metadata": {},
   "outputs": [],
   "source": [
    "# Ensure the necessary folder structure exists\n",
    "data_dir = os.path.join('..','resources','data')\n",
    "os.makedirs(data_dir,exist_ok=True)\n",
    "\n",
    "# api_dir = os.path.join('..','API_keys')\n",
    "# os.makedirs(api_dir,exist_ok=True)"
   ]
  },
  {
   "cell_type": "markdown",
   "id": "61f66784",
   "metadata": {},
   "source": [
    "The following cell installs the Kaggle API.\n",
    "\n",
    "If you do not already have it installed, **enable the cell** by converting it to Cell Type `Code`. (In the Jupyter Notebook menus, select `Cell` > `Cell Type` > `Code`.) Then, go to https://www.kaggle.com/docs/api and follow the `Authentication` instructions.\n",
    "\n",
    "### Important\n",
    "Your `kaggle.json` API key file must be in the proper location as specified in the `Authentication` instructions above."
   ]
  },
  {
   "cell_type": "raw",
   "id": "c6b76a17",
   "metadata": {},
   "source": [
    "# %%capture\n",
    "# Uncomment the line above to suppress output\n",
    "\n",
    "!pip install kaggle\n",
    "\n",
    "# Try the command below, if the above fails on Mac/Linux\n",
    "# pip install --user kaggle"
   ]
  },
  {
   "cell_type": "markdown",
   "id": "32196a00",
   "metadata": {},
   "source": [
    "Additional details about how to use the Kaggle API with Jupyter Notebook can be found [here](https://www.kaggle.com/code/donkeys/kaggle-python-api/notebook), [here](https://technowhisp.com/kaggle-api-python-documentation/), or [here](https://stackoverflow.com/a/60309843)."
   ]
  },
  {
   "cell_type": "markdown",
   "id": "57af4467",
   "metadata": {},
   "source": [
    "## Download Primary Dataset"
   ]
  },
  {
   "cell_type": "code",
   "execution_count": 4,
   "id": "da56c024",
   "metadata": {
    "scrolled": false
   },
   "outputs": [],
   "source": [
    "import kaggle\n",
    "from kaggle.api.kaggle_api_extended import KaggleApi"
   ]
  },
  {
   "cell_type": "code",
   "execution_count": 5,
   "id": "e0b4562b",
   "metadata": {},
   "outputs": [],
   "source": [
    "kag = KaggleApi()\n",
    "kag.authenticate()"
   ]
  },
  {
   "cell_type": "code",
   "execution_count": 6,
   "id": "d6db4921",
   "metadata": {},
   "outputs": [],
   "source": [
    "# Download primary dataset from Kaggle\n",
    "kag.dataset_download_files(\n",
    "    dataset=datasource_primary,\n",
    "    unzip=True,\n",
    "    path=data_dir,\n",
    ")"
   ]
  },
  {
   "cell_type": "markdown",
   "id": "27c5e850",
   "metadata": {},
   "source": [
    "## Download Secondary Dataset"
   ]
  },
  {
   "cell_type": "code",
   "execution_count": 7,
   "id": "45e62da7",
   "metadata": {},
   "outputs": [],
   "source": [
    "from urllib.request import urlretrieve"
   ]
  },
  {
   "cell_type": "code",
   "execution_count": 8,
   "id": "7e6f2c4a",
   "metadata": {},
   "outputs": [
    {
     "data": {
      "text/plain": [
       "('..\\\\resources\\\\data\\\\airports.csv',\n",
       " <http.client.HTTPMessage at 0x1c75c70aec8>)"
      ]
     },
     "execution_count": 8,
     "metadata": {},
     "output_type": "execute_result"
    }
   ],
   "source": [
    "# Download the secondary dataset\n",
    "urlretrieve(\n",
    "    datasource_secondary,\n",
    "    filename=os.path.join(\n",
    "        data_dir,\n",
    "        os.path.basename(datasource_secondary)\n",
    "    )\n",
    ")"
   ]
  },
  {
   "cell_type": "code",
   "execution_count": null,
   "id": "127629a5",
   "metadata": {},
   "outputs": [],
   "source": []
  }
 ],
 "metadata": {
  "kernelspec": {
   "display_name": "mlenv",
   "language": "python",
   "name": "mlenv"
  },
  "language_info": {
   "codemirror_mode": {
    "name": "ipython",
    "version": 3
   },
   "file_extension": ".py",
   "mimetype": "text/x-python",
   "name": "python",
   "nbconvert_exporter": "python",
   "pygments_lexer": "ipython3",
   "version": "3.7.13"
  }
 },
 "nbformat": 4,
 "nbformat_minor": 5
}
