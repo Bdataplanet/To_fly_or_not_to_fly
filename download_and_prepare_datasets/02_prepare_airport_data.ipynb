{
 "cells": [
  {
   "cell_type": "markdown",
   "id": "81df3ca6",
   "metadata": {},
   "source": [
    "# Process data"
   ]
  },
  {
   "cell_type": "markdown",
   "id": "92edff7a",
   "metadata": {},
   "source": [
    "### Important\n",
    "\n",
    "In order to process the airport, flight, and weather data, you must already have it available. If you have not already acquired the data, open notebook `01_get_data` and run all its cells."
   ]
  },
  {
   "cell_type": "code",
   "execution_count": 1,
   "id": "548fca42",
   "metadata": {},
   "outputs": [],
   "source": [
    "import os\n",
    "import pandas as pd"
   ]
  },
  {
   "cell_type": "code",
   "execution_count": 2,
   "id": "f29ceac3",
   "metadata": {},
   "outputs": [],
   "source": [
    "# Make `resources` the working directory, and set `data_dir`\n",
    "os.chdir(os.path.join('..','resources'))\n",
    "data_dir = os.path.join('.','data')"
   ]
  },
  {
   "cell_type": "code",
   "execution_count": 3,
   "id": "377f699b",
   "metadata": {},
   "outputs": [
    {
     "data": {
      "text/plain": [
       "['05-2019.csv',\n",
       " '06-2019.csv',\n",
       " '07-2019.csv',\n",
       " '08-2019.csv',\n",
       " '09-2019.csv',\n",
       " '10-2019.csv',\n",
       " '11-2019.csv',\n",
       " '12-2019.csv',\n",
       " 'GlobalAirportDatabase.txt',\n",
       " 'GlobalAirportDatabase.zip',\n",
       " 'historical-flight-and-weather-data.zip',\n",
       " 'readme.txt']"
      ]
     },
     "execution_count": 3,
     "metadata": {},
     "output_type": "execute_result"
    }
   ],
   "source": [
    "os.listdir(data_dir)"
   ]
  },
  {
   "cell_type": "code",
   "execution_count": 4,
   "id": "8118ac10",
   "metadata": {},
   "outputs": [],
   "source": [
    "airports_source_file = 'GlobalAirportDatabase.txt'"
   ]
  },
  {
   "cell_type": "markdown",
   "id": "223994c9",
   "metadata": {},
   "source": [
    "## Airports Data Set"
   ]
  },
  {
   "cell_type": "code",
   "execution_count": 5,
   "id": "8bc42d03",
   "metadata": {},
   "outputs": [],
   "source": [
    "# Remove leading and trailing whitespace from the Global Airport Database text\n",
    "# (with `.strip()`), and assign it to a variable.\n",
    "with open(os.path.join(data_dir,airports_source_file)) as gadb:\n",
    "    gadb_text = gadb.read().strip()"
   ]
  },
  {
   "cell_type": "code",
   "execution_count": 6,
   "id": "ad5da4a0",
   "metadata": {
    "scrolled": true
   },
   "outputs": [
    {
     "data": {
      "text/plain": [
       "'AYGA:GKA:GOROKA:GOROKA:PAPUA NEW GUINEA:006:004:054:S:145:023:030:E:01610:-6.082:145.392\\nAYLA:LAE:N/A:LAE:PAPUA NEW GUINEA:000:000:000:U:000:000:000:U:00000:0.000:0.000\\nAYMD:MAG:MADANG:MADANG:PAPUA NEW GUINEA:005:012:025:S:145:047:019:E:00007:-5.207:145.789\\nAYMH:HGU:MOUNT HAGEN:MOUNT HAGEN:PAPUA NEW GUINEA:005:049:034:S:144:017:046:E:01643:-5.826:144.296\\nAYNZ:LAE:NADZAB:NADZAB:PAPUA NEW GUINEA:006:034:011:S:146:043:034:E:00073:-6.570:146.726\\nAYPY:POM:PORT MORESBY JACKSONS INTERNATIONAL:PORT MORESBY:PAPUA NEW GUINEA:009:026:036:S:147:013:012:E:00045:-9.443:147.220\\nAYRB:RAB:N/A:RABAUL:PAPUA NEW GUINEA:000:000:000:U:000:000:000:U:00000:0.000:0.000\\nAYWK:WWK:WEWAK INTERNATIONAL:WEWAK:PAPUA NEW GUINEA:003:035:001:S:143:040:009:E:00006:-3.584:143.669\\nBGAM:N/A:N/A:ANGMAGSSALIK:GREENLAND:000:000:000:U:000:000:000:U:00000:0.000:0.000\\nBGAS:N/A:N/A:ANGISSOQ:GREENLAND:000:000:000:U:000:000:000:U:00000:0.000:0.000\\nBGAT:N/A:N/A:APUTITEQ:GREENLAND:000:000:000:U:000:000:000:U:00000:0.000:0.000\\nBGBW:UAK'"
      ]
     },
     "execution_count": 6,
     "metadata": {},
     "output_type": "execute_result"
    }
   ],
   "source": [
    "# Examine some of the data to see what it looks like\n",
    "gadb_text[:1000]"
   ]
  },
  {
   "cell_type": "code",
   "execution_count": 7,
   "id": "67dd6376",
   "metadata": {
    "scrolled": true
   },
   "outputs": [
    {
     "data": {
      "text/plain": [
       "'E:00139:45.623:126.250\\nZYHE:N/A:N/A:HEIHE:CHINA:000:000:000:U:000:000:000:U:00000:0.000:0.000\\nZYJD:N/A:N/A:JAGDAQI:CHINA:000:000:000:U:000:000:000:U:00000:0.000:0.000\\nZYJM:N/A:JIAMUSI:JIAMUSI:CHINA:046:050:036:N:130:027:055:E:00080:46.843:130.465\\nZYMD:N/A:HAILANG:MUDANJIANG:CHINA:044:031:026:N:129:034:008:E:00270:44.524:129.569\\nZYNJ:N/A:N/A:NENJIANG:CHINA:000:000:000:U:000:000:000:U:00000:0.000:0.000\\nZYQQ:N/A:N/A:QIQIHAR:CHINA:000:000:000:U:000:000:000:U:00000:0.000:0.000\\nZYRD:CGQ:N/A:CHANGCHUN:CHINA:000:000:000:U:000:000:000:U:00000:0.000:0.000\\nZYTH:N/A:N/A:TAHE:CHINA:000:000:000:U:000:000:000:U:00000:0.000:0.000\\nZYTK:N/A:N/A:SHENYANG:CHINA:000:000:000:U:000:000:000:U:00000:0.000:0.000\\nZYTL:DLC:ZHOUSHUIZI:DALIAN:CHINA:038:057:056:N:121:032:018:E:00033:38.966:121.538\\nZYXC:N/A:N/A:XIANCHENG:CHINA:000:000:000:U:000:000:000:U:00000:0.000:0.000\\nZYYC:N/A:N/A:YICHUN:CHINA:000:000:000:U:000:000:000:U:00000:0.000:0.000\\nZYYJ:N/A:YANJI:YANJI:CHINA:042:052:054:N:129:026:054:E:00191:42.882:129.448'"
      ]
     },
     "execution_count": 7,
     "metadata": {},
     "output_type": "execute_result"
    }
   ],
   "source": [
    "# And again at the end of the data\n",
    "gadb_text[-1000:]"
   ]
  },
  {
   "cell_type": "markdown",
   "id": "79084c0f",
   "metadata": {},
   "source": [
    "Rows are separated by newline (`\\n`) characters; columns are separated by colons.  \n",
    "Missing values are indicated in a number of ways, depending on the data type.\n",
    "\n",
    "According to [the source](https://www.partow.net/miscellaneous/airportdatabase/index.html):\n",
    "\n",
    "> **Note:** Some tuples may have missing or otherwise unaviable pieces of data. In the event the values are not present, given the data type a default value will be used as follows:\n",
    "> \n",
    "> - String : `N/A`\n",
    "> - Integer: `0`\n",
    "> - Char : `U`\n",
    "> - Floating Point: `0.0`\n",
    "\n",
    "We will split the data—first by newlines, then by colons—and convert values as appropriate."
   ]
  },
  {
   "cell_type": "code",
   "execution_count": 8,
   "id": "2564c4c4",
   "metadata": {},
   "outputs": [],
   "source": [
    "# Create a function to convert data types\n",
    "def process_airport(ap):\n",
    "    # Convert integers\n",
    "    for i in (5,6,7,9,10,11,13):\n",
    "        ap[i] = int(ap[i])\n",
    "    # Convert floats\n",
    "    for i in (14,15):\n",
    "        ap[i] = float(ap[i])\n",
    "    # Convert missing values (0.0 will be coerced to 0, in this case)\n",
    "    ap = tuple(map(lambda elem: None if elem in [0,'U','N/A'] else elem, ap))\n",
    "    return ap"
   ]
  },
  {
   "cell_type": "code",
   "execution_count": 9,
   "id": "89e58f5c",
   "metadata": {},
   "outputs": [],
   "source": [
    "airports_tuples = [process_airport(ap.split(':')) for ap in gadb_text.split('\\n')]"
   ]
  },
  {
   "cell_type": "code",
   "execution_count": 10,
   "id": "505345c5",
   "metadata": {},
   "outputs": [
    {
     "data": {
      "text/plain": [
       "9300"
      ]
     },
     "execution_count": 10,
     "metadata": {},
     "output_type": "execute_result"
    }
   ],
   "source": [
    "len(airports_tuples)"
   ]
  },
  {
   "cell_type": "code",
   "execution_count": 11,
   "id": "8bb462f8",
   "metadata": {},
   "outputs": [
    {
     "name": "stdout",
     "output_type": "stream",
     "text": [
      "('AYGA', 'GKA', 'GOROKA', 'GOROKA', 'PAPUA NEW GUINEA', 6, 4, 54, 'S', 145, 23, 30, 'E', 1610, -6.082, 145.392)\n",
      "('AYLA', 'LAE', None, 'LAE', 'PAPUA NEW GUINEA', None, None, None, None, None, None, None, None, None, None, None)\n",
      "('AYMD', 'MAG', 'MADANG', 'MADANG', 'PAPUA NEW GUINEA', 5, 12, 25, 'S', 145, 47, 19, 'E', 7, -5.207, 145.789)\n",
      "('AYMH', 'HGU', 'MOUNT HAGEN', 'MOUNT HAGEN', 'PAPUA NEW GUINEA', 5, 49, 34, 'S', 144, 17, 46, 'E', 1643, -5.826, 144.296)\n",
      "('AYNZ', 'LAE', 'NADZAB', 'NADZAB', 'PAPUA NEW GUINEA', 6, 34, 11, 'S', 146, 43, 34, 'E', 73, -6.57, 146.726)\n"
     ]
    }
   ],
   "source": [
    "for i in range (5):\n",
    "    print(airports_tuples[i])"
   ]
  },
  {
   "cell_type": "code",
   "execution_count": 12,
   "id": "e5ee7ec4",
   "metadata": {},
   "outputs": [],
   "source": [
    "def print_shape(df):\n",
    "    df_rows, df_cols = df.shape\n",
    "    print(f\"{df_rows:,} rows × {df_cols:,} columns\")"
   ]
  },
  {
   "cell_type": "code",
   "execution_count": 13,
   "id": "84068252",
   "metadata": {},
   "outputs": [
    {
     "name": "stdout",
     "output_type": "stream",
     "text": [
      "552 rows × 15 columns\n"
     ]
    }
   ],
   "source": [
    "# Create dataframe\n",
    "# The project is concerned only with US flights. So we'll also include only US\n",
    "# airports in the data (and skip the country column as a result).\n",
    "\n",
    "airports_columns = [\n",
    "    'icao_code',\n",
    "    'iata_code',\n",
    "    'name',\n",
    "    'city',\n",
    "    'country',\n",
    "    'lat_deg',\n",
    "    'lat_min',\n",
    "    'lat_sec',\n",
    "    'lat_dir',\n",
    "    'lon_deg',\n",
    "    'lon_min',\n",
    "    'lon_sec',\n",
    "    'lon_dir',\n",
    "    'altitude',\n",
    "    'lat_decimal',\n",
    "    'lon_decimal'\n",
    "]\n",
    "\n",
    "airports_df = pd.DataFrame(\n",
    "    data=airports_tuples,\n",
    "    columns=airports_columns\n",
    ").query('country == \"USA\"').drop(columns='country')\n",
    "\n",
    "print_shape(airports_df)"
   ]
  },
  {
   "cell_type": "code",
   "execution_count": 14,
   "id": "1e3783d5",
   "metadata": {},
   "outputs": [
    {
     "data": {
      "text/html": [
       "<div>\n",
       "<style scoped>\n",
       "    .dataframe tbody tr th:only-of-type {\n",
       "        vertical-align: middle;\n",
       "    }\n",
       "\n",
       "    .dataframe tbody tr th {\n",
       "        vertical-align: top;\n",
       "    }\n",
       "\n",
       "    .dataframe thead th {\n",
       "        text-align: right;\n",
       "    }\n",
       "</style>\n",
       "<table border=\"1\" class=\"dataframe\">\n",
       "  <thead>\n",
       "    <tr style=\"text-align: right;\">\n",
       "      <th></th>\n",
       "      <th>icao_code</th>\n",
       "      <th>iata_code</th>\n",
       "      <th>name</th>\n",
       "      <th>city</th>\n",
       "      <th>lat_deg</th>\n",
       "      <th>lat_min</th>\n",
       "      <th>lat_sec</th>\n",
       "      <th>lat_dir</th>\n",
       "      <th>lon_deg</th>\n",
       "      <th>lon_min</th>\n",
       "      <th>lon_sec</th>\n",
       "      <th>lon_dir</th>\n",
       "      <th>altitude</th>\n",
       "      <th>lat_decimal</th>\n",
       "      <th>lon_decimal</th>\n",
       "    </tr>\n",
       "  </thead>\n",
       "  <tbody>\n",
       "    <tr>\n",
       "      <th>3380</th>\n",
       "      <td>KABI</td>\n",
       "      <td>ABI</td>\n",
       "      <td>ABILENE RGNL</td>\n",
       "      <td>ABILENE</td>\n",
       "      <td>32.0</td>\n",
       "      <td>24.0</td>\n",
       "      <td>40.0</td>\n",
       "      <td>N</td>\n",
       "      <td>99.0</td>\n",
       "      <td>40.0</td>\n",
       "      <td>54.0</td>\n",
       "      <td>W</td>\n",
       "      <td>546.0</td>\n",
       "      <td>32.411</td>\n",
       "      <td>-99.682</td>\n",
       "    </tr>\n",
       "    <tr>\n",
       "      <th>3381</th>\n",
       "      <td>KABQ</td>\n",
       "      <td>ABQ</td>\n",
       "      <td>None</td>\n",
       "      <td>ALBUQUERQUE</td>\n",
       "      <td>NaN</td>\n",
       "      <td>NaN</td>\n",
       "      <td>NaN</td>\n",
       "      <td>None</td>\n",
       "      <td>NaN</td>\n",
       "      <td>NaN</td>\n",
       "      <td>NaN</td>\n",
       "      <td>None</td>\n",
       "      <td>NaN</td>\n",
       "      <td>NaN</td>\n",
       "      <td>NaN</td>\n",
       "    </tr>\n",
       "    <tr>\n",
       "      <th>3382</th>\n",
       "      <td>KACK</td>\n",
       "      <td>ACK</td>\n",
       "      <td>NANTUCKET MEM</td>\n",
       "      <td>NANTUCKET</td>\n",
       "      <td>41.0</td>\n",
       "      <td>15.0</td>\n",
       "      <td>10.0</td>\n",
       "      <td>N</td>\n",
       "      <td>70.0</td>\n",
       "      <td>3.0</td>\n",
       "      <td>36.0</td>\n",
       "      <td>W</td>\n",
       "      <td>15.0</td>\n",
       "      <td>41.253</td>\n",
       "      <td>-70.060</td>\n",
       "    </tr>\n",
       "    <tr>\n",
       "      <th>3383</th>\n",
       "      <td>KACT</td>\n",
       "      <td>ACT</td>\n",
       "      <td>WACO RGNL</td>\n",
       "      <td>WACO</td>\n",
       "      <td>31.0</td>\n",
       "      <td>36.0</td>\n",
       "      <td>40.0</td>\n",
       "      <td>N</td>\n",
       "      <td>97.0</td>\n",
       "      <td>13.0</td>\n",
       "      <td>49.0</td>\n",
       "      <td>W</td>\n",
       "      <td>158.0</td>\n",
       "      <td>31.611</td>\n",
       "      <td>-97.230</td>\n",
       "    </tr>\n",
       "    <tr>\n",
       "      <th>3384</th>\n",
       "      <td>KACY</td>\n",
       "      <td>ACY</td>\n",
       "      <td>ATLANTIC CITY INTERNATIONAL</td>\n",
       "      <td>ATLANTIC CITY</td>\n",
       "      <td>39.0</td>\n",
       "      <td>27.0</td>\n",
       "      <td>27.0</td>\n",
       "      <td>N</td>\n",
       "      <td>74.0</td>\n",
       "      <td>34.0</td>\n",
       "      <td>37.0</td>\n",
       "      <td>W</td>\n",
       "      <td>23.0</td>\n",
       "      <td>39.458</td>\n",
       "      <td>-74.577</td>\n",
       "    </tr>\n",
       "  </tbody>\n",
       "</table>\n",
       "</div>"
      ],
      "text/plain": [
       "     icao_code iata_code                         name           city  lat_deg  \\\n",
       "3380      KABI       ABI                 ABILENE RGNL        ABILENE     32.0   \n",
       "3381      KABQ       ABQ                         None    ALBUQUERQUE      NaN   \n",
       "3382      KACK       ACK                NANTUCKET MEM      NANTUCKET     41.0   \n",
       "3383      KACT       ACT                    WACO RGNL           WACO     31.0   \n",
       "3384      KACY       ACY  ATLANTIC CITY INTERNATIONAL  ATLANTIC CITY     39.0   \n",
       "\n",
       "      lat_min  lat_sec lat_dir  lon_deg  lon_min  lon_sec lon_dir  altitude  \\\n",
       "3380     24.0     40.0       N     99.0     40.0     54.0       W     546.0   \n",
       "3381      NaN      NaN    None      NaN      NaN      NaN    None       NaN   \n",
       "3382     15.0     10.0       N     70.0      3.0     36.0       W      15.0   \n",
       "3383     36.0     40.0       N     97.0     13.0     49.0       W     158.0   \n",
       "3384     27.0     27.0       N     74.0     34.0     37.0       W      23.0   \n",
       "\n",
       "      lat_decimal  lon_decimal  \n",
       "3380       32.411      -99.682  \n",
       "3381          NaN          NaN  \n",
       "3382       41.253      -70.060  \n",
       "3383       31.611      -97.230  \n",
       "3384       39.458      -74.577  "
      ]
     },
     "execution_count": 14,
     "metadata": {},
     "output_type": "execute_result"
    }
   ],
   "source": [
    "airports_df.head()"
   ]
  },
  {
   "cell_type": "code",
   "execution_count": 15,
   "id": "fae1cd82",
   "metadata": {},
   "outputs": [
    {
     "data": {
      "text/html": [
       "<div>\n",
       "<style scoped>\n",
       "    .dataframe tbody tr th:only-of-type {\n",
       "        vertical-align: middle;\n",
       "    }\n",
       "\n",
       "    .dataframe tbody tr th {\n",
       "        vertical-align: top;\n",
       "    }\n",
       "\n",
       "    .dataframe thead th {\n",
       "        text-align: right;\n",
       "    }\n",
       "</style>\n",
       "<table border=\"1\" class=\"dataframe\">\n",
       "  <thead>\n",
       "    <tr style=\"text-align: right;\">\n",
       "      <th></th>\n",
       "      <th>data_type</th>\n",
       "      <th>null_count</th>\n",
       "      <th>unique</th>\n",
       "    </tr>\n",
       "  </thead>\n",
       "  <tbody>\n",
       "    <tr>\n",
       "      <th>icao_code</th>\n",
       "      <td>object</td>\n",
       "      <td>0</td>\n",
       "      <td>True</td>\n",
       "    </tr>\n",
       "    <tr>\n",
       "      <th>iata_code</th>\n",
       "      <td>object</td>\n",
       "      <td>73</td>\n",
       "      <td>False</td>\n",
       "    </tr>\n",
       "    <tr>\n",
       "      <th>name</th>\n",
       "      <td>object</td>\n",
       "      <td>66</td>\n",
       "      <td>False</td>\n",
       "    </tr>\n",
       "    <tr>\n",
       "      <th>city</th>\n",
       "      <td>object</td>\n",
       "      <td>0</td>\n",
       "      <td>False</td>\n",
       "    </tr>\n",
       "    <tr>\n",
       "      <th>lat_deg</th>\n",
       "      <td>float64</td>\n",
       "      <td>66</td>\n",
       "      <td>False</td>\n",
       "    </tr>\n",
       "    <tr>\n",
       "      <th>lat_min</th>\n",
       "      <td>float64</td>\n",
       "      <td>73</td>\n",
       "      <td>False</td>\n",
       "    </tr>\n",
       "    <tr>\n",
       "      <th>lat_sec</th>\n",
       "      <td>float64</td>\n",
       "      <td>77</td>\n",
       "      <td>False</td>\n",
       "    </tr>\n",
       "    <tr>\n",
       "      <th>lat_dir</th>\n",
       "      <td>object</td>\n",
       "      <td>66</td>\n",
       "      <td>False</td>\n",
       "    </tr>\n",
       "    <tr>\n",
       "      <th>lon_deg</th>\n",
       "      <td>float64</td>\n",
       "      <td>66</td>\n",
       "      <td>False</td>\n",
       "    </tr>\n",
       "    <tr>\n",
       "      <th>lon_min</th>\n",
       "      <td>float64</td>\n",
       "      <td>73</td>\n",
       "      <td>False</td>\n",
       "    </tr>\n",
       "    <tr>\n",
       "      <th>lon_sec</th>\n",
       "      <td>float64</td>\n",
       "      <td>76</td>\n",
       "      <td>False</td>\n",
       "    </tr>\n",
       "    <tr>\n",
       "      <th>lon_dir</th>\n",
       "      <td>object</td>\n",
       "      <td>66</td>\n",
       "      <td>False</td>\n",
       "    </tr>\n",
       "    <tr>\n",
       "      <th>altitude</th>\n",
       "      <td>float64</td>\n",
       "      <td>66</td>\n",
       "      <td>False</td>\n",
       "    </tr>\n",
       "    <tr>\n",
       "      <th>lat_decimal</th>\n",
       "      <td>float64</td>\n",
       "      <td>66</td>\n",
       "      <td>False</td>\n",
       "    </tr>\n",
       "    <tr>\n",
       "      <th>lon_decimal</th>\n",
       "      <td>float64</td>\n",
       "      <td>66</td>\n",
       "      <td>False</td>\n",
       "    </tr>\n",
       "  </tbody>\n",
       "</table>\n",
       "</div>"
      ],
      "text/plain": [
       "            data_type  null_count  unique\n",
       "icao_code      object           0    True\n",
       "iata_code      object          73   False\n",
       "name           object          66   False\n",
       "city           object           0   False\n",
       "lat_deg       float64          66   False\n",
       "lat_min       float64          73   False\n",
       "lat_sec       float64          77   False\n",
       "lat_dir        object          66   False\n",
       "lon_deg       float64          66   False\n",
       "lon_min       float64          73   False\n",
       "lon_sec       float64          76   False\n",
       "lon_dir        object          66   False\n",
       "altitude      float64          66   False\n",
       "lat_decimal   float64          66   False\n",
       "lon_decimal   float64          66   False"
      ]
     },
     "execution_count": 15,
     "metadata": {},
     "output_type": "execute_result"
    }
   ],
   "source": [
    "# For each column, get data types, number of null values, and whether all (non-NULL) values in the column are unique\n",
    "pd.concat(\n",
    "    [\n",
    "        airports_df.dtypes,\n",
    "        airports_df.isna().sum(),\n",
    "        pd.Series(\n",
    "            data=[airports_df[col].dropna().is_unique for col in airports_df.columns],\n",
    "            index=airports_df.columns\n",
    "        )\n",
    "    ],\n",
    "    axis=1,\n",
    "    keys=['data_type','null_count','unique']\n",
    ")"
   ]
  },
  {
   "cell_type": "markdown",
   "id": "5fc5c1f2",
   "metadata": {},
   "source": [
    "`icao_code` is `UNIQUE` and `NON NULL`, and so can serve as the `PRIMARY KEY` of the `airports` database.\n",
    "\n",
    "Expected `iata_code` to be unique, but it isn't."
   ]
  },
  {
   "cell_type": "code",
   "execution_count": 16,
   "id": "347519fb",
   "metadata": {},
   "outputs": [
    {
     "data": {
      "text/html": [
       "<div>\n",
       "<style scoped>\n",
       "    .dataframe tbody tr th:only-of-type {\n",
       "        vertical-align: middle;\n",
       "    }\n",
       "\n",
       "    .dataframe tbody tr th {\n",
       "        vertical-align: top;\n",
       "    }\n",
       "\n",
       "    .dataframe thead th {\n",
       "        text-align: right;\n",
       "    }\n",
       "</style>\n",
       "<table border=\"1\" class=\"dataframe\">\n",
       "  <thead>\n",
       "    <tr style=\"text-align: right;\">\n",
       "      <th></th>\n",
       "      <th>icao_code</th>\n",
       "      <th>iata_code</th>\n",
       "      <th>name</th>\n",
       "      <th>city</th>\n",
       "      <th>lat_deg</th>\n",
       "      <th>lat_min</th>\n",
       "      <th>lat_sec</th>\n",
       "      <th>lat_dir</th>\n",
       "      <th>lon_deg</th>\n",
       "      <th>lon_min</th>\n",
       "      <th>lon_sec</th>\n",
       "      <th>lon_dir</th>\n",
       "      <th>altitude</th>\n",
       "      <th>lat_decimal</th>\n",
       "      <th>lon_decimal</th>\n",
       "    </tr>\n",
       "  </thead>\n",
       "  <tbody>\n",
       "    <tr>\n",
       "      <th>3381</th>\n",
       "      <td>KABQ</td>\n",
       "      <td>ABQ</td>\n",
       "      <td>None</td>\n",
       "      <td>ALBUQUERQUE</td>\n",
       "      <td>NaN</td>\n",
       "      <td>NaN</td>\n",
       "      <td>NaN</td>\n",
       "      <td>None</td>\n",
       "      <td>NaN</td>\n",
       "      <td>NaN</td>\n",
       "      <td>NaN</td>\n",
       "      <td>None</td>\n",
       "      <td>NaN</td>\n",
       "      <td>NaN</td>\n",
       "      <td>NaN</td>\n",
       "    </tr>\n",
       "    <tr>\n",
       "      <th>3580</th>\n",
       "      <td>KIKR</td>\n",
       "      <td>ABQ</td>\n",
       "      <td>ALBUQUERQUE INTERNATIONAL SUNPORT</td>\n",
       "      <td>KIRTLAND A.F.B.</td>\n",
       "      <td>35.0</td>\n",
       "      <td>2.0</td>\n",
       "      <td>24.0</td>\n",
       "      <td>N</td>\n",
       "      <td>106.0</td>\n",
       "      <td>36.0</td>\n",
       "      <td>33.0</td>\n",
       "      <td>W</td>\n",
       "      <td>1633.0</td>\n",
       "      <td>35.04</td>\n",
       "      <td>-106.609</td>\n",
       "    </tr>\n",
       "  </tbody>\n",
       "</table>\n",
       "</div>"
      ],
      "text/plain": [
       "     icao_code iata_code                               name             city  \\\n",
       "3381      KABQ       ABQ                               None      ALBUQUERQUE   \n",
       "3580      KIKR       ABQ  ALBUQUERQUE INTERNATIONAL SUNPORT  KIRTLAND A.F.B.   \n",
       "\n",
       "      lat_deg  lat_min  lat_sec lat_dir  lon_deg  lon_min  lon_sec lon_dir  \\\n",
       "3381      NaN      NaN      NaN    None      NaN      NaN      NaN    None   \n",
       "3580     35.0      2.0     24.0       N    106.0     36.0     33.0       W   \n",
       "\n",
       "      altitude  lat_decimal  lon_decimal  \n",
       "3381       NaN          NaN          NaN  \n",
       "3580    1633.0        35.04     -106.609  "
      ]
     },
     "execution_count": 16,
     "metadata": {},
     "output_type": "execute_result"
    }
   ],
   "source": [
    "# Examine the rows with (non-NULL) duplicate values\n",
    "airports_df.loc[~airports_df.iata_code.isna() & airports_df.iata_code.duplicated(keep=False)]"
   ]
  },
  {
   "cell_type": "code",
   "execution_count": 17,
   "id": "9f64f66a",
   "metadata": {},
   "outputs": [
    {
     "name": "stdout",
     "output_type": "stream",
     "text": [
      "551 rows × 15 columns\n"
     ]
    }
   ],
   "source": [
    "# Drop the airport at index 3381\n",
    "airports_df.drop(index=3381,errors='ignore',inplace=True)\n",
    "\n",
    "print_shape(airports_df)"
   ]
  },
  {
   "cell_type": "code",
   "execution_count": 18,
   "id": "3910b2d7",
   "metadata": {},
   "outputs": [
    {
     "data": {
      "text/html": [
       "<div>\n",
       "<style scoped>\n",
       "    .dataframe tbody tr th:only-of-type {\n",
       "        vertical-align: middle;\n",
       "    }\n",
       "\n",
       "    .dataframe tbody tr th {\n",
       "        vertical-align: top;\n",
       "    }\n",
       "\n",
       "    .dataframe thead th {\n",
       "        text-align: right;\n",
       "    }\n",
       "</style>\n",
       "<table border=\"1\" class=\"dataframe\">\n",
       "  <thead>\n",
       "    <tr style=\"text-align: right;\">\n",
       "      <th></th>\n",
       "      <th>data_type</th>\n",
       "      <th>null_count</th>\n",
       "      <th>unique</th>\n",
       "    </tr>\n",
       "  </thead>\n",
       "  <tbody>\n",
       "    <tr>\n",
       "      <th>icao_code</th>\n",
       "      <td>object</td>\n",
       "      <td>0</td>\n",
       "      <td>True</td>\n",
       "    </tr>\n",
       "    <tr>\n",
       "      <th>iata_code</th>\n",
       "      <td>object</td>\n",
       "      <td>73</td>\n",
       "      <td>True</td>\n",
       "    </tr>\n",
       "    <tr>\n",
       "      <th>name</th>\n",
       "      <td>object</td>\n",
       "      <td>65</td>\n",
       "      <td>False</td>\n",
       "    </tr>\n",
       "    <tr>\n",
       "      <th>city</th>\n",
       "      <td>object</td>\n",
       "      <td>0</td>\n",
       "      <td>False</td>\n",
       "    </tr>\n",
       "    <tr>\n",
       "      <th>lat_deg</th>\n",
       "      <td>float64</td>\n",
       "      <td>65</td>\n",
       "      <td>False</td>\n",
       "    </tr>\n",
       "    <tr>\n",
       "      <th>lat_min</th>\n",
       "      <td>float64</td>\n",
       "      <td>72</td>\n",
       "      <td>False</td>\n",
       "    </tr>\n",
       "    <tr>\n",
       "      <th>lat_sec</th>\n",
       "      <td>float64</td>\n",
       "      <td>76</td>\n",
       "      <td>False</td>\n",
       "    </tr>\n",
       "    <tr>\n",
       "      <th>lat_dir</th>\n",
       "      <td>object</td>\n",
       "      <td>65</td>\n",
       "      <td>False</td>\n",
       "    </tr>\n",
       "    <tr>\n",
       "      <th>lon_deg</th>\n",
       "      <td>float64</td>\n",
       "      <td>65</td>\n",
       "      <td>False</td>\n",
       "    </tr>\n",
       "    <tr>\n",
       "      <th>lon_min</th>\n",
       "      <td>float64</td>\n",
       "      <td>72</td>\n",
       "      <td>False</td>\n",
       "    </tr>\n",
       "    <tr>\n",
       "      <th>lon_sec</th>\n",
       "      <td>float64</td>\n",
       "      <td>75</td>\n",
       "      <td>False</td>\n",
       "    </tr>\n",
       "    <tr>\n",
       "      <th>lon_dir</th>\n",
       "      <td>object</td>\n",
       "      <td>65</td>\n",
       "      <td>False</td>\n",
       "    </tr>\n",
       "    <tr>\n",
       "      <th>altitude</th>\n",
       "      <td>float64</td>\n",
       "      <td>65</td>\n",
       "      <td>False</td>\n",
       "    </tr>\n",
       "    <tr>\n",
       "      <th>lat_decimal</th>\n",
       "      <td>float64</td>\n",
       "      <td>65</td>\n",
       "      <td>False</td>\n",
       "    </tr>\n",
       "    <tr>\n",
       "      <th>lon_decimal</th>\n",
       "      <td>float64</td>\n",
       "      <td>65</td>\n",
       "      <td>False</td>\n",
       "    </tr>\n",
       "  </tbody>\n",
       "</table>\n",
       "</div>"
      ],
      "text/plain": [
       "            data_type  null_count  unique\n",
       "icao_code      object           0    True\n",
       "iata_code      object          73    True\n",
       "name           object          65   False\n",
       "city           object           0   False\n",
       "lat_deg       float64          65   False\n",
       "lat_min       float64          72   False\n",
       "lat_sec       float64          76   False\n",
       "lat_dir        object          65   False\n",
       "lon_deg       float64          65   False\n",
       "lon_min       float64          72   False\n",
       "lon_sec       float64          75   False\n",
       "lon_dir        object          65   False\n",
       "altitude      float64          65   False\n",
       "lat_decimal   float64          65   False\n",
       "lon_decimal   float64          65   False"
      ]
     },
     "execution_count": 18,
     "metadata": {},
     "output_type": "execute_result"
    }
   ],
   "source": [
    "# For each column, get data types, number of null values, and whether all (non-NULL) values in the column are unique\n",
    "pd.concat(\n",
    "    [\n",
    "        airports_df.dtypes,\n",
    "        airports_df.isna().sum(),\n",
    "        pd.Series(\n",
    "            data=[airports_df[col].dropna().is_unique for col in airports_df.columns],\n",
    "            index=airports_df.columns\n",
    "        )\n",
    "    ],\n",
    "    axis=1,\n",
    "    keys=['data_type','null_count','unique']\n",
    ")"
   ]
  },
  {
   "cell_type": "markdown",
   "id": "cdf6ec99",
   "metadata": {},
   "source": [
    "## Create Database Table"
   ]
  },
  {
   "cell_type": "markdown",
   "id": "40c24e79",
   "metadata": {},
   "source": [
    "In order to connect to the database, first, make sure you have a local (running) database with the `hostname`, `database` name, `username`, and `port` number as specified in `/resources/config/gadb_pg_config.py`."
   ]
  },
  {
   "cell_type": "markdown",
   "id": "c3c19604",
   "metadata": {},
   "source": [
    "### Install [Psycopg2](https://pypi.org/project/psycopg2/)\n",
    "\n",
    "If you do not already have Psycopg2 (and its binary extension) installed, **enable the cell below** by converting it to Cell Type `Code`. (In the Jupyter Notebook menus, select `Cell` > `Cell Type` > `Code`.)\n",
    "\n",
    "Additional details about how to use Psycopg2 can be found in its [documentation](https://www.psycopg.org/docs/)."
   ]
  },
  {
   "cell_type": "raw",
   "id": "a5a99220",
   "metadata": {},
   "source": [
    "# %%capture\n",
    "# Uncomment the line above to suppress output\n",
    "\n",
    "!pip install psycopg2\n",
    "!pip install psycopg2-binary"
   ]
  },
  {
   "cell_type": "markdown",
   "id": "c10742d0",
   "metadata": {},
   "source": [
    "### Install [SQLAlchemy](https://www.sqlalchemy.org/)\n",
    "\n",
    "If you do not already have SQLAlchemy installed, **enable the cell below** by converting it to Cell Type `Code`. (In the Jupyter Notebook menus, select `Cell` > `Cell Type` > `Code`.)\n",
    "\n",
    "Additional details about how to use SQLAlchemy can be found in its [documentation](https://docs.sqlalchemy.org/en/14/)."
   ]
  },
  {
   "cell_type": "raw",
   "id": "5f3fe363",
   "metadata": {},
   "source": [
    "# %%capture\n",
    "# Uncomment the line above to suppress output\n",
    "\n",
    "!pip install SQLAlchemy"
   ]
  },
  {
   "cell_type": "code",
   "execution_count": 19,
   "id": "33efea85",
   "metadata": {},
   "outputs": [],
   "source": [
    "# Database configuration details\n",
    "from config import gadb_pg_config as cfg\n",
    "\n",
    "# To connect to SQL database\n",
    "import sqlalchemy as db\n",
    "# from sqlalchemy import create_engine, MetaData, Table, text, types\n",
    "\n",
    "# To enter passwords without exposing them\n",
    "from getpass import getpass"
   ]
  },
  {
   "cell_type": "markdown",
   "id": "c8dc4d15",
   "metadata": {},
   "source": [
    "Most of the database information is in `cfg` (above). However, you will have to enter your password below."
   ]
  },
  {
   "cell_type": "code",
   "execution_count": 20,
   "id": "0464f1fb",
   "metadata": {},
   "outputs": [
    {
     "name": "stdout",
     "output_type": "stream",
     "text": [
      "Enter database password········\n"
     ]
    }
   ],
   "source": [
    "password = getpass('Enter database password')"
   ]
  },
  {
   "cell_type": "code",
   "execution_count": 21,
   "id": "463b7921",
   "metadata": {},
   "outputs": [],
   "source": [
    "db_string = f\"postgresql+psycopg2://{cfg.username}:{password}@{cfg.hostname}:{cfg.port}/{cfg.database}\""
   ]
  },
  {
   "cell_type": "code",
   "execution_count": 22,
   "id": "ba5c2330",
   "metadata": {},
   "outputs": [],
   "source": [
    "engine = db.create_engine(\n",
    "    future=True,\n",
    "#     echo=True,\n",
    "    url=db_string\n",
    ")"
   ]
  },
  {
   "cell_type": "code",
   "execution_count": 23,
   "id": "aaf195a8",
   "metadata": {
    "scrolled": false
   },
   "outputs": [
    {
     "name": "stdout",
     "output_type": "stream",
     "text": [
      "Done.\n"
     ]
    }
   ],
   "source": [
    "# Create the `airports` table\n",
    "with engine.begin() as conn:    \n",
    "    conn.execute(db.text(cfg.ap_create))\n",
    "print('Done.')"
   ]
  },
  {
   "cell_type": "markdown",
   "id": "2e2716a7",
   "metadata": {},
   "source": [
    "#### Recommendation\n",
    "\n",
    "Check the database (via pgAdmin or some other means) to make sure that the tables exist as expected."
   ]
  },
  {
   "cell_type": "markdown",
   "id": "42fa6923",
   "metadata": {},
   "source": [
    "## Upload Data"
   ]
  },
  {
   "cell_type": "code",
   "execution_count": 24,
   "id": "1327cc06",
   "metadata": {},
   "outputs": [],
   "source": [
    "db_meta = db.MetaData()"
   ]
  },
  {
   "cell_type": "code",
   "execution_count": 25,
   "id": "ddb8ef11",
   "metadata": {
    "scrolled": true
   },
   "outputs": [],
   "source": [
    "# Access the `airports` and `flights_and_weather` tables and assign them to variables\n",
    "airports_table = db.Table('airports', db_meta, autoload_with=engine)"
   ]
  },
  {
   "cell_type": "markdown",
   "id": "98bd7ebc",
   "metadata": {},
   "source": [
    "### Upload Airport Data"
   ]
  },
  {
   "cell_type": "code",
   "execution_count": 26,
   "id": "88f6f56b",
   "metadata": {},
   "outputs": [
    {
     "data": {
      "text/plain": [
       "True"
      ]
     },
     "execution_count": 26,
     "metadata": {},
     "output_type": "execute_result"
    }
   ],
   "source": [
    "# Check to see if `airports_table` has the same number of columns as the `airports_df`\n",
    "len(airports_table.columns.keys()) == airports_df.columns.size"
   ]
  },
  {
   "cell_type": "code",
   "execution_count": 27,
   "id": "35fce6bd",
   "metadata": {},
   "outputs": [
    {
     "data": {
      "text/plain": [
       "[Column('icao_code', VARCHAR(length=4), table=<airports>, primary_key=True, nullable=False),\n",
       " Column('iata_code', CHAR(length=3), table=<airports>),\n",
       " Column('name', TEXT(), table=<airports>),\n",
       " Column('city', TEXT(), table=<airports>),\n",
       " Column('lat_deg', INTEGER(), table=<airports>),\n",
       " Column('lat_min', INTEGER(), table=<airports>),\n",
       " Column('lat_sec', INTEGER(), table=<airports>),\n",
       " Column('lat_dir', CHAR(length=1), table=<airports>),\n",
       " Column('lon_deg', INTEGER(), table=<airports>),\n",
       " Column('lon_min', INTEGER(), table=<airports>),\n",
       " Column('lon_sec', INTEGER(), table=<airports>),\n",
       " Column('lon_dir', CHAR(length=1), table=<airports>),\n",
       " Column('altitude', INTEGER(), table=<airports>),\n",
       " Column('lat_decimal', NUMERIC(), table=<airports>),\n",
       " Column('lon_decimal', NUMERIC(), table=<airports>)]"
      ]
     },
     "execution_count": 27,
     "metadata": {},
     "output_type": "execute_result"
    }
   ],
   "source": [
    "# Verify `airports_table` column definitions\n",
    "airports_table.columns.values()"
   ]
  },
  {
   "cell_type": "code",
   "execution_count": 28,
   "id": "07cf172d",
   "metadata": {},
   "outputs": [
    {
     "name": "stdout",
     "output_type": "stream",
     "text": [
      "INSERT INTO airports (icao_code, iata_code, name, city, lat_deg, lat_min, lat_sec, lat_dir, lon_deg, lon_min, lon_sec, lon_dir, altitude, lat_decimal, lon_decimal) VALUES (:icao_code, :iata_code, :name, :city, :lat_deg, :lat_min, :lat_sec, :lat_dir, :lon_deg, :lon_min, :lon_sec, :lon_dir, :altitude, :lat_decimal, :lon_decimal)\n"
     ]
    }
   ],
   "source": [
    "print(db.insert(airports_table))"
   ]
  },
  {
   "cell_type": "code",
   "execution_count": 29,
   "id": "31a6bda8",
   "metadata": {},
   "outputs": [
    {
     "name": "stdout",
     "output_type": "stream",
     "text": [
      "SELECT EXISTS (SELECT * \n",
      "FROM airports) AS anon_1\n"
     ]
    }
   ],
   "source": [
    "# Check query to test whether `airports` table has any rows\n",
    "print(db.exists().select_from(airports_table).select())"
   ]
  },
  {
   "cell_type": "code",
   "execution_count": 30,
   "id": "83e85c9c",
   "metadata": {
    "scrolled": true
   },
   "outputs": [
    {
     "name": "stdout",
     "output_type": "stream",
     "text": [
      "Done.\n"
     ]
    }
   ],
   "source": [
    "# Upload\n",
    "with engine.begin() as conn:\n",
    "    ap_is_empty = not conn.execute(db.exists().select_from(airports_table).select()).scalar()\n",
    "\n",
    "if (ap_is_empty):\n",
    "    airports_df.to_sql(\n",
    "        name='airports',\n",
    "        con=engine,\n",
    "        if_exists='append',\n",
    "        index=False,\n",
    "        method='multi'\n",
    "    )\n",
    "    print('Done.')\n",
    "else:\n",
    "    print('`airports` table already populated.')"
   ]
  }
 ],
 "metadata": {
  "kernelspec": {
   "display_name": "mlenv",
   "language": "python",
   "name": "mlenv"
  },
  "language_info": {
   "codemirror_mode": {
    "name": "ipython",
    "version": 3
   },
   "file_extension": ".py",
   "mimetype": "text/x-python",
   "name": "python",
   "nbconvert_exporter": "python",
   "pygments_lexer": "ipython3",
   "version": "3.7.13"
  }
 },
 "nbformat": 4,
 "nbformat_minor": 5
}
